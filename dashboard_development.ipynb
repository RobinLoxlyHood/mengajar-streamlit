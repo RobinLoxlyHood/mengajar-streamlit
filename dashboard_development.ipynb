{
 "cells": [
  {
   "cell_type": "code",
   "execution_count": 1,
   "metadata": {},
   "outputs": [],
   "source": [
    "import nltk\n",
    "import pandas as pd\n",
    "import re\n",
    "import pickle\n",
    "from sklearn.feature_extraction.text import TfidfVectorizer\n",
    "from nltk.tokenize import TweetTokenizer\n",
    "import pymysql"
   ]
  },
  {
   "cell_type": "code",
   "execution_count": 2,
   "metadata": {},
   "outputs": [],
   "source": [
    "def read_mysql_table(table, host='localhost', user='root', password='', database='review'):\n",
    "    # Establish a connection to the MySQL database\n",
    "    connection = pymysql.connect(\n",
    "        host=host,\n",
    "        user=user,\n",
    "        password=password,\n",
    "        database=database\n",
    "    )\n",
    "    \n",
    "    # Create a cursor object to execute SQL queries\n",
    "    cursor = connection.cursor()\n",
    "    \n",
    "    query = f\"SELECT * FROM {table}\"\n",
    "    cursor.execute(query)\n",
    "    result = cursor.fetchall()\n",
    "    \n",
    "    # Convert the result to a Pandas DataFrame\n",
    "    df = pd.DataFrame(result)\n",
    "    \n",
    "    # Assign column names based on the cursor description\n",
    "    df.columns = [column[0] for column in cursor.description]\n",
    "    \n",
    "    # Close the cursor and the database connection\n",
    "    cursor.close()\n",
    "    connection.close()\n",
    "    \n",
    "    return df"
   ]
  },
  {
   "cell_type": "code",
   "execution_count": 3,
   "metadata": {},
   "outputs": [
    {
     "data": {
      "text/html": [
       "<div>\n",
       "<style scoped>\n",
       "    .dataframe tbody tr th:only-of-type {\n",
       "        vertical-align: middle;\n",
       "    }\n",
       "\n",
       "    .dataframe tbody tr th {\n",
       "        vertical-align: top;\n",
       "    }\n",
       "\n",
       "    .dataframe thead th {\n",
       "        text-align: right;\n",
       "    }\n",
       "</style>\n",
       "<table border=\"1\" class=\"dataframe\">\n",
       "  <thead>\n",
       "    <tr style=\"text-align: right;\">\n",
       "      <th></th>\n",
       "      <th>id_review</th>\n",
       "      <th>nama</th>\n",
       "      <th>tanggal</th>\n",
       "      <th>review</th>\n",
       "    </tr>\n",
       "  </thead>\n",
       "  <tbody>\n",
       "    <tr>\n",
       "      <th>0</th>\n",
       "      <td>13</td>\n",
       "      <td>User1</td>\n",
       "      <td>2023-12-04</td>\n",
       "      <td>Aplikasi ini sangat membantu dan mudah digunakan.</td>\n",
       "    </tr>\n",
       "    <tr>\n",
       "      <th>1</th>\n",
       "      <td>14</td>\n",
       "      <td>User2</td>\n",
       "      <td>2023-12-04</td>\n",
       "      <td>Website ini memberikan pengalaman yang luar bi...</td>\n",
       "    </tr>\n",
       "    <tr>\n",
       "      <th>2</th>\n",
       "      <td>15</td>\n",
       "      <td>User3</td>\n",
       "      <td>2023-12-04</td>\n",
       "      <td>Saya sangat puas dengan fitur-fitur yang dised...</td>\n",
       "    </tr>\n",
       "    <tr>\n",
       "      <th>3</th>\n",
       "      <td>16</td>\n",
       "      <td>User4</td>\n",
       "      <td>2023-12-04</td>\n",
       "      <td>Layanan pelanggan yang ramah dan responsif.</td>\n",
       "    </tr>\n",
       "    <tr>\n",
       "      <th>4</th>\n",
       "      <td>17</td>\n",
       "      <td>User5</td>\n",
       "      <td>2023-12-04</td>\n",
       "      <td>Aplikasi ini membuat hidup saya lebih mudah da...</td>\n",
       "    </tr>\n",
       "  </tbody>\n",
       "</table>\n",
       "</div>"
      ],
      "text/plain": [
       "   id_review   nama     tanggal  \\\n",
       "0         13  User1  2023-12-04   \n",
       "1         14  User2  2023-12-04   \n",
       "2         15  User3  2023-12-04   \n",
       "3         16  User4  2023-12-04   \n",
       "4         17  User5  2023-12-04   \n",
       "\n",
       "                                              review  \n",
       "0  Aplikasi ini sangat membantu dan mudah digunakan.  \n",
       "1  Website ini memberikan pengalaman yang luar bi...  \n",
       "2  Saya sangat puas dengan fitur-fitur yang dised...  \n",
       "3        Layanan pelanggan yang ramah dan responsif.  \n",
       "4  Aplikasi ini membuat hidup saya lebih mudah da...  "
      ]
     },
     "execution_count": 3,
     "metadata": {},
     "output_type": "execute_result"
    }
   ],
   "source": [
    "table_name = 'input_review'\n",
    "df = read_mysql_table(table_name)\n",
    "df.head()"
   ]
  },
  {
   "cell_type": "code",
   "execution_count": 4,
   "metadata": {},
   "outputs": [],
   "source": [
    "#menyimpan tweet. (tipe data series pandas)\n",
    "data_content = df['review']"
   ]
  },
  {
   "cell_type": "code",
   "execution_count": 5,
   "metadata": {},
   "outputs": [
    {
     "data": {
      "text/plain": [
       "0    aplikasi ini sangat membantu dan mudah digunakan.\n",
       "1    website ini memberikan pengalaman yang luar bi...\n",
       "2    saya sangat puas dengan fitur-fitur yang dised...\n",
       "3          layanan pelanggan yang ramah dan responsif.\n",
       "4    aplikasi ini membuat hidup saya lebih mudah da...\n",
       "Name: review, dtype: object"
      ]
     },
     "execution_count": 5,
     "metadata": {},
     "output_type": "execute_result"
    }
   ],
   "source": [
    "# casefolding\n",
    "data_casefolding = data_content.str.lower()\n",
    "data_casefolding.head()"
   ]
  },
  {
   "cell_type": "code",
   "execution_count": 6,
   "metadata": {},
   "outputs": [],
   "source": [
    "#filtering\n",
    "\n",
    "#url\n",
    "filtering_url = [re.sub(r'''(?i)\\b((?:https?://|www\\d{0,3}[.]|[a-z0-9.\\-]+[.][a-z]{2,4}/)(?:[^\\s()<>]+|\\(([^\\s()<>]+|(\\([^\\s()<>]+\\)))*\\))+(?:\\(([^\\s()<>]+|(\\([^\\s()<>]+\\)))*\\)|[^\\s`!()\\[\\]{};:'\".,<>?«»“”‘’]))''', \" \", str(tweet)) for tweet in data_casefolding]\n",
    "#cont\n",
    "filtering_cont = [re.sub(r'\\(cont\\)',\" \", tweet)for tweet in filtering_url]\n",
    "#punctuatuion\n",
    "filtering_punctuation = [re.sub('[!\"”#$%&’()*+,-./:;<=>?@[\\]^_`{|}~]', ' ', tweet) for tweet in filtering_cont]\n",
    "#  hapus #tagger\n",
    "filtering_tagger = [re.sub(r'#([^\\s]+)', '', tweet) for tweet in filtering_punctuation]\n",
    "#numeric\n",
    "filtering_numeric = [re.sub(r'\\d+', ' ', tweet) for tweet in filtering_tagger]\n",
    "\n",
    "# # filtering RT , @ dan #\n",
    "# fungsi_clen_rt = lambda x: re.compile('\\#').sub('', re.compile('rt @').sub('@', x, count=1).strip())\n",
    "# clean = [fungsi_clen_rt for tweet in filtering_numeric]\n",
    "\n",
    "data_filtering = pd.Series(filtering_numeric)\n"
   ]
  },
  {
   "cell_type": "code",
   "execution_count": 7,
   "metadata": {},
   "outputs": [
    {
     "data": {
      "text/plain": [
       "[['aplikasi', 'ini', 'sangat', 'membantu', 'dan', 'mudah', 'digunakan'],\n",
       " ['website', 'ini', 'memberikan', 'pengalaman', 'yang', 'luar', 'biasa'],\n",
       " ['saya', 'sangat', 'puas', 'dengan', 'fitur', 'fitur', 'yang', 'disediakan'],\n",
       " ['layanan', 'pelanggan', 'yang', 'ramah', 'dan', 'responsif'],\n",
       " ['aplikasi',\n",
       "  'ini',\n",
       "  'membuat',\n",
       "  'hidup',\n",
       "  'saya',\n",
       "  'lebih',\n",
       "  'mudah',\n",
       "  'dan',\n",
       "  'efisien'],\n",
       " ['banyak', 'bug', 'pada', 'aplikasi', 'membuat', 'pengalaman', 'buruk'],\n",
       " ['navigasi', 'website', 'sangat', 'membingungkan', 'dan', 'lambat'],\n",
       " ['fitur', 'fitur', 'yang', 'ditawarkan', 'kurang', 'memuaskan'],\n",
       " ['aplikasi', 'sering', 'crash', 'dan', 'tidak', 'stabil'],\n",
       " ['pelayanan', 'pelanggan', 'sangat', 'buruk', 'dan', 'tidak', 'responsif'],\n",
       " ['saya', 'merasa', 'biasa', 'saja', 'dengan', 'aplikasi', 'ini'],\n",
       " ['website',\n",
       "  'ini',\n",
       "  'memiliki',\n",
       "  'kelebihan',\n",
       "  'dan',\n",
       "  'kekurangan',\n",
       "  'masing',\n",
       "  'masing'],\n",
       " ['tidak',\n",
       "  'terlalu',\n",
       "  'terkesan',\n",
       "  'dengan',\n",
       "  'fitur',\n",
       "  'fitur',\n",
       "  'yang',\n",
       "  'disediakan'],\n",
       " ['penggunaan', 'aplikasi', 'ini', 'standar', 'saja'],\n",
       " ['tidak', 'ada', 'yang', 'istimewa', 'dari', 'website', 'ini']]"
      ]
     },
     "execution_count": 7,
     "metadata": {},
     "output_type": "execute_result"
    }
   ],
   "source": [
    "# #tokenize\n",
    "tknzr = TweetTokenizer()\n",
    "data_tokenize = [tknzr.tokenize(tweet) for tweet in data_filtering]\n",
    "data_tokenize"
   ]
  },
  {
   "cell_type": "code",
   "execution_count": 8,
   "metadata": {},
   "outputs": [],
   "source": [
    "#slang word\n",
    "path_dataslang = open(\"Data/kamus kata baku-clear.csv\")\n",
    "dataslang = pd.read_csv(path_dataslang, encoding = 'utf-8', header=None, sep=\";\")\n",
    "\n",
    "def replaceSlang(word):\n",
    "  if word in list(dataslang[0]):\n",
    "    indexslang = list(dataslang[0]).index(word)\n",
    "    return dataslang[1][indexslang]\n",
    "  else:\n",
    "    return word\n",
    "\n",
    "data_formal = []\n",
    "for data in data_tokenize:\n",
    "  data_clean = [replaceSlang(word) for word in data]\n",
    "  data_formal.append(data_clean)\n",
    "len_data_formal = len(data_formal)\n",
    "# print(data_formal)\n",
    "# len_data_formal"
   ]
  },
  {
   "cell_type": "code",
   "execution_count": 9,
   "metadata": {},
   "outputs": [
    {
     "name": "stderr",
     "output_type": "stream",
     "text": [
      "[nltk_data] Downloading package stopwords to\n",
      "[nltk_data]     C:\\Users\\iki11\\AppData\\Roaming\\nltk_data...\n",
      "[nltk_data]   Package stopwords is already up-to-date!\n"
     ]
    }
   ],
   "source": [
    "nltk.download('stopwords')\n",
    "default_stop_words = nltk.corpus.stopwords.words('indonesian')\n",
    "stopwords = set(default_stop_words)\n",
    "\n",
    "def removeStopWords(line, stopwords):\n",
    "  words = []\n",
    "  for word in line:  \n",
    "    word=str(word)\n",
    "    word = word.strip()\n",
    "    if word not in stopwords and word != \"\" and word != \"&\":\n",
    "      words.append(word)\n",
    "\n",
    "  return words\n",
    "reviews = [removeStopWords(line,stopwords) for line in data_formal]"
   ]
  },
  {
   "cell_type": "code",
   "execution_count": 10,
   "metadata": {},
   "outputs": [],
   "source": [
    "# Specify the file path of the pickle file\n",
    "file_path = 'Model/training.pickle'\n",
    "\n",
    "# Read the pickle file\n",
    "with open(file_path, 'rb') as file:\n",
    "    data_train = pickle.load(file)"
   ]
  },
  {
   "cell_type": "code",
   "execution_count": 11,
   "metadata": {},
   "outputs": [
    {
     "data": {
      "text/plain": [
       "'ganjarpranowo malu dukung kualitas dukung gantung dukung dukung tolol dukung'"
      ]
     },
     "execution_count": 11,
     "metadata": {},
     "output_type": "execute_result"
    }
   ],
   "source": [
    "data_train[0]"
   ]
  },
  {
   "cell_type": "code",
   "execution_count": 12,
   "metadata": {},
   "outputs": [],
   "source": [
    "# pembuatan vector kata\n",
    "vectorizer = TfidfVectorizer()\n",
    "train_vector = vectorizer.fit_transform(data_train)\n",
    "reviews2 = [\" \".join(r) for r in reviews]"
   ]
  },
  {
   "cell_type": "code",
   "execution_count": 13,
   "metadata": {},
   "outputs": [],
   "source": [
    "load_model = pickle.load(open('Model/tfidf_Model Naive Bayes_nvb.pkl','rb'))\n",
    "\n",
    "result = []\n",
    "\n",
    "for test in reviews2:\n",
    "    test_data = [str(test)]\n",
    "    test_vector = vectorizer.transform(test_data)\n",
    "    pred = load_model.predict(test_vector)\n",
    "    result.append(pred[0])"
   ]
  },
  {
   "cell_type": "code",
   "execution_count": 14,
   "metadata": {},
   "outputs": [
    {
     "data": {
      "text/plain": [
       "[1, -1, 0, 1, 1, 0, -1, -1, -1, 0, -1, -1, -1, 0, -1]"
      ]
     },
     "execution_count": 14,
     "metadata": {},
     "output_type": "execute_result"
    }
   ],
   "source": [
    "result"
   ]
  },
  {
   "cell_type": "code",
   "execution_count": 15,
   "metadata": {},
   "outputs": [
    {
     "data": {
      "text/plain": [
       "array([-1,  0,  1], dtype=int64)"
      ]
     },
     "execution_count": 15,
     "metadata": {},
     "output_type": "execute_result"
    }
   ],
   "source": [
    "from sklearn.utils.multiclass import unique_labels\n",
    "unique_labels(result)"
   ]
  },
  {
   "cell_type": "code",
   "execution_count": 16,
   "metadata": {},
   "outputs": [],
   "source": [
    "df['label'] = result"
   ]
  },
  {
   "cell_type": "code",
   "execution_count": 17,
   "metadata": {},
   "outputs": [],
   "source": [
    "def delete_all_data_from_table(table, host='localhost', user='root', password='', database='review'):\n",
    "    # Establish a connection to the MySQL database\n",
    "    connection = pymysql.connect(\n",
    "        host=host,\n",
    "        user=user,\n",
    "        password=password,\n",
    "        database=database\n",
    "    )\n",
    "    \n",
    "    # Create a cursor object to execute SQL queries\n",
    "    cursor = connection.cursor()\n",
    "    \n",
    "    # Delete all data from the specified table\n",
    "    query = f\"DELETE FROM {table}\"\n",
    "    cursor.execute(query)\n",
    "    \n",
    "    # Commit the changes\n",
    "    connection.commit()\n",
    "    \n",
    "    # Close the cursor and the database connection\n",
    "    cursor.close()\n",
    "    connection.close()"
   ]
  },
  {
   "cell_type": "code",
   "execution_count": 18,
   "metadata": {},
   "outputs": [],
   "source": [
    "delete_all_data_from_table('input_review')"
   ]
  },
  {
   "cell_type": "code",
   "execution_count": 19,
   "metadata": {},
   "outputs": [],
   "source": [
    "def insert_df_into_hasil_model(df, host='localhost', user='root', password='', database='review'):\n",
    "    # Establish a connection to the MySQL database\n",
    "    connection = pymysql.connect(\n",
    "        host=host,\n",
    "        user=user,\n",
    "        password=password,\n",
    "        database=database\n",
    "    )\n",
    "\n",
    "    # Create a cursor object to execute SQL queries\n",
    "    cursor = connection.cursor()\n",
    "\n",
    "    # Insert each row from the DataFrame into the 'hasil_model' table\n",
    "    for index, row in df.iterrows():\n",
    "        query = \"INSERT INTO hasil_model (id_review, nama, tanggal, review, label) VALUES (%s, %s, %s, %s, %s)\"\n",
    "        cursor.execute(query, (row['id_review'], row['nama'], row['tanggal'], row['review'], row['label']))\n",
    "\n",
    "    # Commit the changes\n",
    "    connection.commit()\n",
    "\n",
    "    # Close the cursor and the database connection\n",
    "    cursor.close()\n",
    "    connection.close()"
   ]
  },
  {
   "cell_type": "code",
   "execution_count": 20,
   "metadata": {},
   "outputs": [],
   "source": [
    "insert_df_into_hasil_model(df)"
   ]
  },
  {
   "cell_type": "code",
   "execution_count": 22,
   "metadata": {},
   "outputs": [],
   "source": [
    "table_name = 'hasil_model'\n",
    "hasil_df = read_mysql_table(table_name)\n",
    "hasil_df.to_csv('Data/hasil_model.csv')"
   ]
  },
  {
   "cell_type": "code",
   "execution_count": null,
   "metadata": {},
   "outputs": [],
   "source": []
  }
 ],
 "metadata": {
  "kernelspec": {
   "display_name": "materiworkshop",
   "language": "python",
   "name": "python3"
  },
  "language_info": {
   "codemirror_mode": {
    "name": "ipython",
    "version": 3
   },
   "file_extension": ".py",
   "mimetype": "text/x-python",
   "name": "python",
   "nbconvert_exporter": "python",
   "pygments_lexer": "ipython3",
   "version": "3.11.2"
  }
 },
 "nbformat": 4,
 "nbformat_minor": 2
}
